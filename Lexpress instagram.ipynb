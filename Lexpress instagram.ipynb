{
 "cells": [
  {
   "cell_type": "code",
   "execution_count": 12,
   "metadata": {},
   "outputs": [],
   "source": [
    "import time \n",
    "import os \n",
    "from selenium import webdriver\n",
    "from selenium.webdriver.common.keys import Keys \n",
    "import re\n",
    "from selenium.common.exceptions import NoSuchElementException"
   ]
  },
  {
   "cell_type": "code",
   "execution_count": 13,
   "metadata": {},
   "outputs": [],
   "source": [
    "commentsum=0 \n",
    "likessum=0 \n",
    "post=0"
   ]
  },
  {
   "cell_type": "code",
   "execution_count": 14,
   "metadata": {},
   "outputs": [],
   "source": [
    "option = webdriver.ChromeOptions()\n",
    "chrome_prefs = {}\n",
    "option.experimental_options[\"prefs\"] = chrome_prefs\n",
    "\n",
    "chrome_prefs[\"profile.default_content_settings\"] = { \"popups\": 0 , \"notifications\" : 0 }\n",
    "\n",
    "driver = webdriver.Chrome(options=option)\n",
    "\n",
    "driver.implicitly_wait(10)\n",
    "url=\"https://www.instagram.com/lexpressmu/\"\n",
    "driver.get(url)"
   ]
  },
  {
   "cell_type": "code",
   "execution_count": 15,
   "metadata": {},
   "outputs": [],
   "source": [
    "link = driver.find_element_by_class_name('eLAPa')\n",
    "link.click()"
   ]
  },
  {
   "cell_type": "code",
   "execution_count": 16,
   "metadata": {},
   "outputs": [],
   "source": [
    "email_elem = driver.find_element_by_name(\"username\")\n",
    "email_elem.send_keys(\"nileshramgolam@yahoo.com\")\n",
    "password_elem = driver.find_element_by_name(\"password\")\n",
    "password_elem.send_keys(\"incorrect123532\")\n",
    "password_elem.submit()"
   ]
  },
  {
   "cell_type": "code",
   "execution_count": 17,
   "metadata": {},
   "outputs": [],
   "source": [
    "link = driver.find_element_by_class_name('cmbtv')\n",
    "link.click()"
   ]
  },
  {
   "cell_type": "code",
   "execution_count": 18,
   "metadata": {},
   "outputs": [],
   "source": [
    "link = driver.find_element_by_class_name('eLAPa')\n",
    "link.click()\n",
    "html=driver.page_source\n",
    "html=str(html)"
   ]
  },
  {
   "cell_type": "code",
   "execution_count": 19,
   "metadata": {},
   "outputs": [],
   "source": [
    "#LIKES CODE \n",
    "def calulcatelikes() :\n",
    "    indicator=0\n",
    "    html= driver.page_source\n",
    "    html=str(html)\n",
    "    regexphoto0=\"Liked by\"\n",
    "    photo0= re.search(regexphoto0,html)\n",
    "    if photo0: \n",
    "        regexphoto=\"Liked by.+?others\"\n",
    "        photo= re.search(regexphoto,html)\n",
    "        likesspanphoto=\"<span>.+\"\n",
    "        likesspan=re.search(likesspanphoto,photo[0])\n",
    "        likesregex=\"\\d\"\n",
    "        likes=re.findall(likesregex,likesspan[0])\n",
    "        strl=\"\"\n",
    "        ilikes= int(strl.join(likes))\n",
    "        ilikes=ilikes+1 \n",
    "    else: \n",
    "        try:\n",
    "            linkvideo=driver.find_element_by_class_name(\"vcOH2\")\n",
    "            linkvideo.click()\n",
    "            indicator=1\n",
    "        except NoSuchElementException as exception: \n",
    "            indicator=0\n",
    "            print (\"Like3 invoked\")\n",
    "            like3=\"likes\"\n",
    "            special=re.search(like3,html)\n",
    "            like4=\"<span>.+?</span> likes</a></div>\"\n",
    "            special2=re.search(like4,html)\n",
    "            like5=\"\\d\"\n",
    "            special3=re.findall(like5,special2[0])\n",
    "            str2=\"\"\n",
    "            ilikes=int(str2.join(special3))\n",
    "        if (indicator==1):\n",
    "            html= driver.page_source\n",
    "            html=str(html)\n",
    "            likesspanregex=\"class=\\\"vJRqr\\\"><span>.+?likes</div>\"       \n",
    "            likesspan= re.search(likesspanregex,html)\n",
    "            likesregex=\"\\d\"\n",
    "            likes=re.findall(likesregex,likesspan[0])            \n",
    "            strl=\"\"\n",
    "            ilikes= int(strl.join(likes))\n",
    "            escape=driver.find_element_by_class_name(\"QhbhU\") #after clicking like for video \n",
    "            escape.click()\n",
    "            html= driver.page_source\n",
    "            html=str(html)\n",
    "       \n",
    "    return ilikes"
   ]
  },
  {
   "cell_type": "code",
   "execution_count": 20,
   "metadata": {},
   "outputs": [],
   "source": [
    "#comments \n",
    "def calculatecomment() :\n",
    "    html= driver.page_source\n",
    "    html=str(html)\n",
    "    morecommentscheckregex=\"Load more comments\"\n",
    "    morecommentschecks=re.search(morecommentscheckregex,html)\n",
    "    commentcount=html.count(\"Mr508\")\n",
    "    if morecommentschecks:\n",
    "        morecommentsclick=driver.find_element_by_class_name(\"Igw0E.IwRSH.YBx95._4EzTm.NUiEW \")\n",
    "        morecommentsclick.click() \n",
    "        html= driver.page_source\n",
    "        html=str(html)\n",
    "        temp=html.count(\"Mr508\")\n",
    "        while (temp!=commentcount): \n",
    "            time.sleep(2)\n",
    "            morecommentscheckregex=\"Load more comments\"\n",
    "            morecommentschecks=re.search(morecommentscheckregex,html)\n",
    "            if (temp!=commentcount):\n",
    "                html= driver.page_source\n",
    "                html=str(html)\n",
    "                commentcount=html.count(\"Mr508\")\n",
    "                try:\n",
    "                    morecommentsclick=driver.find_element_by_class_name(\"Igw0E.IwRSH.YBx95._4EzTm.NUiEW \")\n",
    "                    morecommentsclick.click()\n",
    "                    html= driver.page_source\n",
    "                    html=str(html)\n",
    "                    temp=html.count(\"Mr508\")\n",
    "                except NoSuchElementException as exception: \n",
    "                    print (\"comments done\")\n",
    "                    break \n",
    "    html= driver.page_source\n",
    "    html=str(html) \n",
    "    commentcount= html.count(\"Mr508\")\n",
    "    viewrepliesregex=\"View replies.+?\\)\"\n",
    "    replies=re.findall(viewrepliesregex,html)\n",
    "    repliestr=\"\"\n",
    "    repliestr= \"\".join(replies)\n",
    "    repliescregex=\"\\d\"\n",
    "    repliesc=re.findall(repliescregex,repliestr)\n",
    "    repliesc = list(map(int, repliesc)) \n",
    "    replies=sum(repliesc)\n",
    "    commentcount=commentcount + replies\n",
    "    commentcount=int(commentcount)\n",
    "    return commentcount"
   ]
  },
  {
   "cell_type": "code",
   "execution_count": 21,
   "metadata": {},
   "outputs": [],
   "source": [
    "#finding date\n",
    "def calculatedate() : \n",
    "    html=driver.page_source\n",
    "    html=str(html)\n",
    "    regexdate=\"class=\\\"_1o9PC Nzb55\\\" datetime=.+?T\"\n",
    "    finddate=re.search(regexdate,html)\n",
    "    extractdatetime=\"datetime.+\"\n",
    "    datetime=re.search(extractdatetime,finddate[0])\n",
    "    dateregex=\"\\\".+?T\"\n",
    "    date=re.search(dateregex,datetime[0])\n",
    "    fdate=date[0].replace(\"T\",\"\")\n",
    "    fdate=fdate.replace(\"-\",\"\")\n",
    "    fdate=fdate.replace(\"\\\"\",\"\")\n",
    "    fdate=int(fdate)\n",
    "    return fdate"
   ]
  },
  {
   "cell_type": "code",
   "execution_count": 22,
   "metadata": {},
   "outputs": [
    {
     "name": "stdout",
     "output_type": "stream",
     "text": [
      "comments done\n",
      "comments done\n",
      "comments done\n",
      "comments done\n",
      "Like3 invoked\n",
      "comments done\n",
      "comments done\n",
      "comments done\n",
      "comments done\n",
      "comments done\n",
      "comments done\n",
      "comments done\n",
      "comments done\n",
      "comments done\n"
     ]
    }
   ],
   "source": [
    "html=driver.page_source\n",
    "html=str(html)\n",
    "date=calculatedate()\n",
    "while (date >= 20210315) :\n",
    "    date=calculatedate()\n",
    "    html= driver.page_source\n",
    "    html=str(html)\n",
    "    if (date <= 20210321 and date>=20210315) : \n",
    "        post=post+1\n",
    "        comments= calculatecomment()\n",
    "        likes= calulcatelikes()\n",
    "        commentsum= commentsum + comments\n",
    "        likessum= likessum + likes \n",
    "    link=driver.find_element_by_link_text(\"Next\")\n",
    "    link.click()\n",
    "    time.sleep(2)"
   ]
  },
  {
   "cell_type": "code",
   "execution_count": 25,
   "metadata": {},
   "outputs": [
    {
     "name": "stdout",
     "output_type": "stream",
     "text": [
      "Reactions for lexpress insta:103900\n",
      "Posts for lexpress insta:70\n"
     ]
    }
   ],
   "source": [
    "print(\"Reactions for lexpress insta:\" + str(likessum+commentsum))\n",
    "print(\"Posts for lexpress insta:\" + str(post))"
   ]
  }
 ],
 "metadata": {
  "kernelspec": {
   "display_name": "Python 3",
   "language": "python",
   "name": "python3"
  },
  "language_info": {
   "codemirror_mode": {
    "name": "ipython",
    "version": 3
   },
   "file_extension": ".py",
   "mimetype": "text/x-python",
   "name": "python",
   "nbconvert_exporter": "python",
   "pygments_lexer": "ipython3",
   "version": "3.8.5"
  }
 },
 "nbformat": 4,
 "nbformat_minor": 4
}
