{
 "cells": [
  {
   "cell_type": "code",
   "execution_count": 1,
   "metadata": {},
   "outputs": [],
   "source": [
    "import time \n",
    "import os \n",
    "from selenium import webdriver\n",
    "from selenium.webdriver.common.keys import Keys \n",
    "import re\n",
    "from selenium.common.exceptions import NoSuchElementException"
   ]
  },
  {
   "cell_type": "code",
   "execution_count": 2,
   "metadata": {},
   "outputs": [],
   "source": [
    "option = webdriver.ChromeOptions()\n",
    "chrome_prefs = {}\n",
    "option.experimental_options[\"prefs\"] = chrome_prefs\n",
    "\n",
    "chrome_prefs[\"profile.default_content_settings\"] = { \"popups\": 0 , \"notifications\" : 0 }\n",
    "\n",
    "driver = webdriver.Chrome(options=option)\n",
    "\n",
    "driver.implicitly_wait(10)\n",
    "url=\"https://www.instagram.com/keshii_h/\"\n",
    "driver.get(url)"
   ]
  },
  {
   "cell_type": "code",
   "execution_count": 3,
   "metadata": {},
   "outputs": [],
   "source": [
    "link = driver.find_element_by_class_name('eLAPa')\n",
    "link.click()"
   ]
  },
  {
   "cell_type": "code",
   "execution_count": 4,
   "metadata": {},
   "outputs": [],
   "source": [
    "likeelm= driver.find_element_by_class_name('fr66n')\n",
    "likeelm.click()"
   ]
  },
  {
   "cell_type": "code",
   "execution_count": 5,
   "metadata": {},
   "outputs": [],
   "source": [
    "while 1: \n",
    "    try:\n",
    "            link=driver.find_element_by_css_selector((\"span[style='display: inline-block; transform: rotate(90deg);']\")) \n",
    "            link.click()\n",
    "            time.sleep(3)\n",
    "            likeelm= driver.find_element_by_class_name('fr66n')\n",
    "            likeelm.click()\n",
    "    except: \n",
    "            break "
   ]
  }
 ],
 "metadata": {
  "kernelspec": {
   "display_name": "Python 3",
   "language": "python",
   "name": "python3"
  },
  "language_info": {
   "codemirror_mode": {
    "name": "ipython",
    "version": 3
   },
   "file_extension": ".py",
   "mimetype": "text/x-python",
   "name": "python",
   "nbconvert_exporter": "python",
   "pygments_lexer": "ipython3",
   "version": "3.8.5"
  }
 },
 "nbformat": 4,
 "nbformat_minor": 4
}
